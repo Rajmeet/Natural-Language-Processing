{
 "cells": [
  {
   "cell_type": "markdown",
   "metadata": {},
   "source": [
    "<h2>Importing the Libraries</h2>"
   ]
  },
  {
   "cell_type": "code",
   "execution_count": 1,
   "metadata": {},
   "outputs": [],
   "source": [
    "import pandas as pd                                             # For Data Exploration, \n",
    "import numpy as np                                              # To create arrays\n",
    "import nltk                                                     # For Text Pre-processing \n",
    "import re                                                       # For Text Pre-processing\n",
    "from nltk.tokenize import word_tokenize                         # Tokenize text into words\n",
    "from nltk.stem import PorterStemmer                             # Reducing word to it's root\n",
    "from sklearn.feature_extraction.text import CountVectorizer     # Create Bag of Words\n",
    "from sklearn.model_selection import train_test_split            # Split data into groups (Testing and Training)\n",
    "from sklearn.naive_bayes import MultinomialNB                   # Selecting the Multinomial Algorithm \n",
    "from sklearn.metrics import accuracy_score                      # Display Accuracy \n",
    "\n",
    "from nltk.corpus import stopwords\n",
    "from string import punctuation\n",
    "trashwords = stopwords.words('english')"
   ]
  },
  {
   "cell_type": "markdown",
   "metadata": {},
   "source": [
    "## Step 1\n",
    "Import your data into the program and display it <br>\n",
    "Task: Load dataset and display dataset"
   ]
  },
  {
   "cell_type": "code",
   "execution_count": 19,
   "metadata": {},
   "outputs": [
    {
     "data": {
      "text/html": [
       "<div>\n",
       "<style scoped>\n",
       "    .dataframe tbody tr th:only-of-type {\n",
       "        vertical-align: middle;\n",
       "    }\n",
       "\n",
       "    .dataframe tbody tr th {\n",
       "        vertical-align: top;\n",
       "    }\n",
       "\n",
       "    .dataframe thead th {\n",
       "        text-align: right;\n",
       "    }\n",
       "</style>\n",
       "<table border=\"1\" class=\"dataframe\">\n",
       "  <thead>\n",
       "    <tr style=\"text-align: right;\">\n",
       "      <th></th>\n",
       "      <th>text</th>\n",
       "      <th>spam</th>\n",
       "      <th>Unnamed: 2</th>\n",
       "      <th>Unnamed: 3</th>\n",
       "      <th>Unnamed: 4</th>\n",
       "      <th>Unnamed: 5</th>\n",
       "      <th>Unnamed: 6</th>\n",
       "      <th>Unnamed: 7</th>\n",
       "      <th>Unnamed: 8</th>\n",
       "      <th>Unnamed: 9</th>\n",
       "      <th>...</th>\n",
       "      <th>Unnamed: 100</th>\n",
       "      <th>Unnamed: 101</th>\n",
       "      <th>Unnamed: 102</th>\n",
       "      <th>Unnamed: 103</th>\n",
       "      <th>Unnamed: 104</th>\n",
       "      <th>Unnamed: 105</th>\n",
       "      <th>Unnamed: 106</th>\n",
       "      <th>Unnamed: 107</th>\n",
       "      <th>Unnamed: 108</th>\n",
       "      <th>Unnamed: 109</th>\n",
       "    </tr>\n",
       "  </thead>\n",
       "  <tbody>\n",
       "    <tr>\n",
       "      <th>0</th>\n",
       "      <td>Subject: naturally irresistible your corporate...</td>\n",
       "      <td>1</td>\n",
       "      <td>NaN</td>\n",
       "      <td>NaN</td>\n",
       "      <td>NaN</td>\n",
       "      <td>NaN</td>\n",
       "      <td>NaN</td>\n",
       "      <td>NaN</td>\n",
       "      <td>NaN</td>\n",
       "      <td>NaN</td>\n",
       "      <td>...</td>\n",
       "      <td>NaN</td>\n",
       "      <td>NaN</td>\n",
       "      <td>NaN</td>\n",
       "      <td>NaN</td>\n",
       "      <td>NaN</td>\n",
       "      <td>NaN</td>\n",
       "      <td>NaN</td>\n",
       "      <td>NaN</td>\n",
       "      <td>NaN</td>\n",
       "      <td>NaN</td>\n",
       "    </tr>\n",
       "    <tr>\n",
       "      <th>1</th>\n",
       "      <td>Subject: the stock trading gunslinger  fanny i...</td>\n",
       "      <td>1</td>\n",
       "      <td>NaN</td>\n",
       "      <td>NaN</td>\n",
       "      <td>NaN</td>\n",
       "      <td>NaN</td>\n",
       "      <td>NaN</td>\n",
       "      <td>NaN</td>\n",
       "      <td>NaN</td>\n",
       "      <td>NaN</td>\n",
       "      <td>...</td>\n",
       "      <td>NaN</td>\n",
       "      <td>NaN</td>\n",
       "      <td>NaN</td>\n",
       "      <td>NaN</td>\n",
       "      <td>NaN</td>\n",
       "      <td>NaN</td>\n",
       "      <td>NaN</td>\n",
       "      <td>NaN</td>\n",
       "      <td>NaN</td>\n",
       "      <td>NaN</td>\n",
       "    </tr>\n",
       "    <tr>\n",
       "      <th>2</th>\n",
       "      <td>Subject: unbelievable new homes made easy  im ...</td>\n",
       "      <td>1</td>\n",
       "      <td>NaN</td>\n",
       "      <td>NaN</td>\n",
       "      <td>NaN</td>\n",
       "      <td>NaN</td>\n",
       "      <td>NaN</td>\n",
       "      <td>NaN</td>\n",
       "      <td>NaN</td>\n",
       "      <td>NaN</td>\n",
       "      <td>...</td>\n",
       "      <td>NaN</td>\n",
       "      <td>NaN</td>\n",
       "      <td>NaN</td>\n",
       "      <td>NaN</td>\n",
       "      <td>NaN</td>\n",
       "      <td>NaN</td>\n",
       "      <td>NaN</td>\n",
       "      <td>NaN</td>\n",
       "      <td>NaN</td>\n",
       "      <td>NaN</td>\n",
       "    </tr>\n",
       "    <tr>\n",
       "      <th>3</th>\n",
       "      <td>Subject: 4 color printing special  request add...</td>\n",
       "      <td>1</td>\n",
       "      <td>NaN</td>\n",
       "      <td>NaN</td>\n",
       "      <td>NaN</td>\n",
       "      <td>NaN</td>\n",
       "      <td>NaN</td>\n",
       "      <td>NaN</td>\n",
       "      <td>NaN</td>\n",
       "      <td>NaN</td>\n",
       "      <td>...</td>\n",
       "      <td>NaN</td>\n",
       "      <td>NaN</td>\n",
       "      <td>NaN</td>\n",
       "      <td>NaN</td>\n",
       "      <td>NaN</td>\n",
       "      <td>NaN</td>\n",
       "      <td>NaN</td>\n",
       "      <td>NaN</td>\n",
       "      <td>NaN</td>\n",
       "      <td>NaN</td>\n",
       "    </tr>\n",
       "    <tr>\n",
       "      <th>4</th>\n",
       "      <td>Subject: do not have money , get software cds ...</td>\n",
       "      <td>1</td>\n",
       "      <td>NaN</td>\n",
       "      <td>NaN</td>\n",
       "      <td>NaN</td>\n",
       "      <td>NaN</td>\n",
       "      <td>NaN</td>\n",
       "      <td>NaN</td>\n",
       "      <td>NaN</td>\n",
       "      <td>NaN</td>\n",
       "      <td>...</td>\n",
       "      <td>NaN</td>\n",
       "      <td>NaN</td>\n",
       "      <td>NaN</td>\n",
       "      <td>NaN</td>\n",
       "      <td>NaN</td>\n",
       "      <td>NaN</td>\n",
       "      <td>NaN</td>\n",
       "      <td>NaN</td>\n",
       "      <td>NaN</td>\n",
       "      <td>NaN</td>\n",
       "    </tr>\n",
       "  </tbody>\n",
       "</table>\n",
       "<p>5 rows × 110 columns</p>\n",
       "</div>"
      ],
      "text/plain": [
       "                                                text spam Unnamed: 2  \\\n",
       "0  Subject: naturally irresistible your corporate...    1        NaN   \n",
       "1  Subject: the stock trading gunslinger  fanny i...    1        NaN   \n",
       "2  Subject: unbelievable new homes made easy  im ...    1        NaN   \n",
       "3  Subject: 4 color printing special  request add...    1        NaN   \n",
       "4  Subject: do not have money , get software cds ...    1        NaN   \n",
       "\n",
       "  Unnamed: 3 Unnamed: 4 Unnamed: 5 Unnamed: 6 Unnamed: 7 Unnamed: 8  \\\n",
       "0        NaN        NaN        NaN        NaN        NaN        NaN   \n",
       "1        NaN        NaN        NaN        NaN        NaN        NaN   \n",
       "2        NaN        NaN        NaN        NaN        NaN        NaN   \n",
       "3        NaN        NaN        NaN        NaN        NaN        NaN   \n",
       "4        NaN        NaN        NaN        NaN        NaN        NaN   \n",
       "\n",
       "  Unnamed: 9  ... Unnamed: 100 Unnamed: 101 Unnamed: 102 Unnamed: 103  \\\n",
       "0        NaN  ...          NaN          NaN          NaN          NaN   \n",
       "1        NaN  ...          NaN          NaN          NaN          NaN   \n",
       "2        NaN  ...          NaN          NaN          NaN          NaN   \n",
       "3        NaN  ...          NaN          NaN          NaN          NaN   \n",
       "4        NaN  ...          NaN          NaN          NaN          NaN   \n",
       "\n",
       "  Unnamed: 104 Unnamed: 105 Unnamed: 106 Unnamed: 107 Unnamed: 108  \\\n",
       "0          NaN          NaN          NaN          NaN          NaN   \n",
       "1          NaN          NaN          NaN          NaN          NaN   \n",
       "2          NaN          NaN          NaN          NaN          NaN   \n",
       "3          NaN          NaN          NaN          NaN          NaN   \n",
       "4          NaN          NaN          NaN          NaN          NaN   \n",
       "\n",
       "  Unnamed: 109  \n",
       "0          NaN  \n",
       "1          NaN  \n",
       "2          NaN  \n",
       "3          NaN  \n",
       "4          NaN  \n",
       "\n",
       "[5 rows x 110 columns]"
      ]
     },
     "execution_count": 19,
     "metadata": {},
     "output_type": "execute_result"
    }
   ],
   "source": [
    "df = pd.read_csv('emails.csv')\n",
    "df.head()"
   ]
  },
  {
   "cell_type": "markdown",
   "metadata": {},
   "source": [
    "## Step 2\n",
    "Check for any Null Values (empty rows) and drop duplicate rows <br>\n",
    "Task: Eliminate empty and duplicate rows"
   ]
  },
  {
   "cell_type": "code",
   "execution_count": 20,
   "metadata": {
    "scrolled": true
   },
   "outputs": [
    {
     "data": {
      "text/plain": [
       "text               0\n",
       "spam               2\n",
       "Unnamed: 2      5729\n",
       "Unnamed: 3      5729\n",
       "Unnamed: 4      5729\n",
       "                ... \n",
       "Unnamed: 105    5729\n",
       "Unnamed: 106    5729\n",
       "Unnamed: 107    5730\n",
       "Unnamed: 108    5730\n",
       "Unnamed: 109    5730\n",
       "Length: 110, dtype: int64"
      ]
     },
     "execution_count": 20,
     "metadata": {},
     "output_type": "execute_result"
    }
   ],
   "source": [
    "df.isnull().sum()"
   ]
  },
  {
   "cell_type": "code",
   "execution_count": 21,
   "metadata": {},
   "outputs": [
    {
     "name": "stdout",
     "output_type": "stream",
     "text": [
      "text               0\n",
      "spam               2\n",
      "Unnamed: 2      5696\n",
      "Unnamed: 3      5696\n",
      "Unnamed: 4      5696\n",
      "                ... \n",
      "Unnamed: 105    5696\n",
      "Unnamed: 106    5696\n",
      "Unnamed: 107    5697\n",
      "Unnamed: 108    5697\n",
      "Unnamed: 109    5697\n",
      "Length: 110, dtype: int64\n"
     ]
    }
   ],
   "source": [
    "df.drop_duplicates(inplace = True)\n",
    "print(df.isnull().sum())\n",
    "df.fillna(\"not needed\", inplace=True)"
   ]
  },
  {
   "cell_type": "code",
   "execution_count": 22,
   "metadata": {},
   "outputs": [
    {
     "data": {
      "text/html": [
       "<div>\n",
       "<style scoped>\n",
       "    .dataframe tbody tr th:only-of-type {\n",
       "        vertical-align: middle;\n",
       "    }\n",
       "\n",
       "    .dataframe tbody tr th {\n",
       "        vertical-align: top;\n",
       "    }\n",
       "\n",
       "    .dataframe thead th {\n",
       "        text-align: right;\n",
       "    }\n",
       "</style>\n",
       "<table border=\"1\" class=\"dataframe\">\n",
       "  <thead>\n",
       "    <tr style=\"text-align: right;\">\n",
       "      <th></th>\n",
       "      <th>text</th>\n",
       "      <th>spam</th>\n",
       "      <th>Unnamed: 2</th>\n",
       "      <th>Unnamed: 3</th>\n",
       "      <th>Unnamed: 4</th>\n",
       "      <th>Unnamed: 5</th>\n",
       "      <th>Unnamed: 6</th>\n",
       "      <th>Unnamed: 7</th>\n",
       "      <th>Unnamed: 8</th>\n",
       "      <th>Unnamed: 9</th>\n",
       "      <th>...</th>\n",
       "      <th>Unnamed: 100</th>\n",
       "      <th>Unnamed: 101</th>\n",
       "      <th>Unnamed: 102</th>\n",
       "      <th>Unnamed: 103</th>\n",
       "      <th>Unnamed: 104</th>\n",
       "      <th>Unnamed: 105</th>\n",
       "      <th>Unnamed: 106</th>\n",
       "      <th>Unnamed: 107</th>\n",
       "      <th>Unnamed: 108</th>\n",
       "      <th>Unnamed: 109</th>\n",
       "    </tr>\n",
       "  </thead>\n",
       "  <tbody>\n",
       "    <tr>\n",
       "      <th>0</th>\n",
       "      <td>Subject: naturally irresistible your corporate...</td>\n",
       "      <td>1</td>\n",
       "      <td>not needed</td>\n",
       "      <td>not needed</td>\n",
       "      <td>not needed</td>\n",
       "      <td>not needed</td>\n",
       "      <td>not needed</td>\n",
       "      <td>not needed</td>\n",
       "      <td>not needed</td>\n",
       "      <td>not needed</td>\n",
       "      <td>...</td>\n",
       "      <td>not needed</td>\n",
       "      <td>not needed</td>\n",
       "      <td>not needed</td>\n",
       "      <td>not needed</td>\n",
       "      <td>not needed</td>\n",
       "      <td>not needed</td>\n",
       "      <td>not needed</td>\n",
       "      <td>not needed</td>\n",
       "      <td>not needed</td>\n",
       "      <td>not needed</td>\n",
       "    </tr>\n",
       "    <tr>\n",
       "      <th>1</th>\n",
       "      <td>Subject: the stock trading gunslinger  fanny i...</td>\n",
       "      <td>1</td>\n",
       "      <td>not needed</td>\n",
       "      <td>not needed</td>\n",
       "      <td>not needed</td>\n",
       "      <td>not needed</td>\n",
       "      <td>not needed</td>\n",
       "      <td>not needed</td>\n",
       "      <td>not needed</td>\n",
       "      <td>not needed</td>\n",
       "      <td>...</td>\n",
       "      <td>not needed</td>\n",
       "      <td>not needed</td>\n",
       "      <td>not needed</td>\n",
       "      <td>not needed</td>\n",
       "      <td>not needed</td>\n",
       "      <td>not needed</td>\n",
       "      <td>not needed</td>\n",
       "      <td>not needed</td>\n",
       "      <td>not needed</td>\n",
       "      <td>not needed</td>\n",
       "    </tr>\n",
       "    <tr>\n",
       "      <th>2</th>\n",
       "      <td>Subject: unbelievable new homes made easy  im ...</td>\n",
       "      <td>1</td>\n",
       "      <td>not needed</td>\n",
       "      <td>not needed</td>\n",
       "      <td>not needed</td>\n",
       "      <td>not needed</td>\n",
       "      <td>not needed</td>\n",
       "      <td>not needed</td>\n",
       "      <td>not needed</td>\n",
       "      <td>not needed</td>\n",
       "      <td>...</td>\n",
       "      <td>not needed</td>\n",
       "      <td>not needed</td>\n",
       "      <td>not needed</td>\n",
       "      <td>not needed</td>\n",
       "      <td>not needed</td>\n",
       "      <td>not needed</td>\n",
       "      <td>not needed</td>\n",
       "      <td>not needed</td>\n",
       "      <td>not needed</td>\n",
       "      <td>not needed</td>\n",
       "    </tr>\n",
       "    <tr>\n",
       "      <th>3</th>\n",
       "      <td>Subject: 4 color printing special  request add...</td>\n",
       "      <td>1</td>\n",
       "      <td>not needed</td>\n",
       "      <td>not needed</td>\n",
       "      <td>not needed</td>\n",
       "      <td>not needed</td>\n",
       "      <td>not needed</td>\n",
       "      <td>not needed</td>\n",
       "      <td>not needed</td>\n",
       "      <td>not needed</td>\n",
       "      <td>...</td>\n",
       "      <td>not needed</td>\n",
       "      <td>not needed</td>\n",
       "      <td>not needed</td>\n",
       "      <td>not needed</td>\n",
       "      <td>not needed</td>\n",
       "      <td>not needed</td>\n",
       "      <td>not needed</td>\n",
       "      <td>not needed</td>\n",
       "      <td>not needed</td>\n",
       "      <td>not needed</td>\n",
       "    </tr>\n",
       "    <tr>\n",
       "      <th>4</th>\n",
       "      <td>Subject: do not have money , get software cds ...</td>\n",
       "      <td>1</td>\n",
       "      <td>not needed</td>\n",
       "      <td>not needed</td>\n",
       "      <td>not needed</td>\n",
       "      <td>not needed</td>\n",
       "      <td>not needed</td>\n",
       "      <td>not needed</td>\n",
       "      <td>not needed</td>\n",
       "      <td>not needed</td>\n",
       "      <td>...</td>\n",
       "      <td>not needed</td>\n",
       "      <td>not needed</td>\n",
       "      <td>not needed</td>\n",
       "      <td>not needed</td>\n",
       "      <td>not needed</td>\n",
       "      <td>not needed</td>\n",
       "      <td>not needed</td>\n",
       "      <td>not needed</td>\n",
       "      <td>not needed</td>\n",
       "      <td>not needed</td>\n",
       "    </tr>\n",
       "  </tbody>\n",
       "</table>\n",
       "<p>5 rows × 110 columns</p>\n",
       "</div>"
      ],
      "text/plain": [
       "                                                text spam  Unnamed: 2  \\\n",
       "0  Subject: naturally irresistible your corporate...    1  not needed   \n",
       "1  Subject: the stock trading gunslinger  fanny i...    1  not needed   \n",
       "2  Subject: unbelievable new homes made easy  im ...    1  not needed   \n",
       "3  Subject: 4 color printing special  request add...    1  not needed   \n",
       "4  Subject: do not have money , get software cds ...    1  not needed   \n",
       "\n",
       "   Unnamed: 3  Unnamed: 4  Unnamed: 5  Unnamed: 6  Unnamed: 7  Unnamed: 8  \\\n",
       "0  not needed  not needed  not needed  not needed  not needed  not needed   \n",
       "1  not needed  not needed  not needed  not needed  not needed  not needed   \n",
       "2  not needed  not needed  not needed  not needed  not needed  not needed   \n",
       "3  not needed  not needed  not needed  not needed  not needed  not needed   \n",
       "4  not needed  not needed  not needed  not needed  not needed  not needed   \n",
       "\n",
       "   Unnamed: 9  ... Unnamed: 100 Unnamed: 101 Unnamed: 102 Unnamed: 103  \\\n",
       "0  not needed  ...   not needed   not needed   not needed   not needed   \n",
       "1  not needed  ...   not needed   not needed   not needed   not needed   \n",
       "2  not needed  ...   not needed   not needed   not needed   not needed   \n",
       "3  not needed  ...   not needed   not needed   not needed   not needed   \n",
       "4  not needed  ...   not needed   not needed   not needed   not needed   \n",
       "\n",
       "  Unnamed: 104 Unnamed: 105 Unnamed: 106 Unnamed: 107 Unnamed: 108  \\\n",
       "0   not needed   not needed   not needed   not needed   not needed   \n",
       "1   not needed   not needed   not needed   not needed   not needed   \n",
       "2   not needed   not needed   not needed   not needed   not needed   \n",
       "3   not needed   not needed   not needed   not needed   not needed   \n",
       "4   not needed   not needed   not needed   not needed   not needed   \n",
       "\n",
       "  Unnamed: 109  \n",
       "0   not needed  \n",
       "1   not needed  \n",
       "2   not needed  \n",
       "3   not needed  \n",
       "4   not needed  \n",
       "\n",
       "[5 rows x 110 columns]"
      ]
     },
     "execution_count": 22,
     "metadata": {},
     "output_type": "execute_result"
    }
   ],
   "source": [
    "df.head()"
   ]
  },
  {
   "cell_type": "markdown",
   "metadata": {},
   "source": [
    "## Step 3\n",
    "Text Cleaning <br>\n",
    "Now it's time to start cleaning. Let's remove any unnecessary pieces of text."
   ]
  },
  {
   "cell_type": "code",
   "execution_count": 23,
   "metadata": {},
   "outputs": [
    {
     "name": "stdout",
     "output_type": "stream",
     "text": [
      "Original Text\n"
     ]
    },
    {
     "data": {
      "text/plain": [
       "0       Subject: naturally irresistible your corporate...\n",
       "1       Subject: the stock trading gunslinger  fanny i...\n",
       "2       Subject: unbelievable new homes made easy  im ...\n",
       "3       Subject: 4 color printing special  request add...\n",
       "4       Subject: do not have money , get software cds ...\n",
       "                              ...                        \n",
       "5726    Subject: re : receipts from visit  jim ,  than...\n",
       "5727    Subject: re : enron case study update  wow ! a...\n",
       "5728    Subject: re : interest  david ,  please , call...\n",
       "5729    Subject: news : aurora 5 . 2 update  aurora ve...\n",
       "5730    Subjecet : Congratulation. Hi Harsh You have b...\n",
       "Name: text, Length: 5698, dtype: object"
      ]
     },
     "execution_count": 23,
     "metadata": {},
     "output_type": "execute_result"
    }
   ],
   "source": [
    "print(\"Original Text\", end = \"\\n\")\n",
    "df['text']"
   ]
  },
  {
   "cell_type": "code",
   "execution_count": 24,
   "metadata": {},
   "outputs": [],
   "source": [
    "for index, row in df.iterrows():\n",
    "    newText = re.sub('Subject: |re : |fw : |fwd :', '',row['text'])\n",
    "    newText = newText.lower().strip()\n",
    "    df.loc[index,'text'] = newText"
   ]
  },
  {
   "cell_type": "code",
   "execution_count": 25,
   "metadata": {},
   "outputs": [
    {
     "name": "stdout",
     "output_type": "stream",
     "text": [
      "Cleaned Text\n"
     ]
    },
    {
     "data": {
      "text/plain": [
       "0       naturally irresistible your corporate identity...\n",
       "1       the stock trading gunslinger  fanny is merrill...\n",
       "2       unbelievable new homes made easy  im wanting t...\n",
       "3       4 color printing special  request additional i...\n",
       "4       do not have money , get software cds from here...\n",
       "                              ...                        \n",
       "5726    receipts from visit  jim ,  thanks again for t...\n",
       "5727    enron case study update  wow ! all on the same...\n",
       "5728    interest  david ,  please , call shirley crens...\n",
       "5729    news : aurora 5 . 2 update  aurora version 5 ....\n",
       "5730    subjecet : congratulation. hi harsh you have b...\n",
       "Name: text, Length: 5698, dtype: object"
      ]
     },
     "execution_count": 25,
     "metadata": {},
     "output_type": "execute_result"
    }
   ],
   "source": [
    "print(\"Cleaned Text\", end = \"\\n\")\n",
    "df['text']"
   ]
  },
  {
   "cell_type": "markdown",
   "metadata": {},
   "source": [
    "## Step 4\n",
    "Creating a corpus. (corpus is a list of stemmed words - no punctuation) <br>\n",
    "Task: Create a list of strings containing each stemmed and processed sentence."
   ]
  },
  {
   "cell_type": "code",
   "execution_count": 26,
   "metadata": {},
   "outputs": [],
   "source": [
    "corpus = []\n",
    "stemmer = PorterStemmer()\n",
    "for text in df['text']:\n",
    "    tokenized_text = nltk.word_tokenize(text)\n",
    "    stemmed_text = ''\n",
    "    for word in tokenized_text:\n",
    "        if word not in punctuation and word not in trashwords:\n",
    "            stemmed_text += stemmer.stem(word) + ' '\n",
    "    corpus.append(stemmed_text)"
   ]
  },
  {
   "cell_type": "markdown",
   "metadata": {},
   "source": [
    "## Step 5\n",
    "Creating a bag of words and training <br>\n",
    "Task: Create a Bag of Words model and its respective list of labels and start with training"
   ]
  },
  {
   "cell_type": "code",
   "execution_count": 27,
   "metadata": {},
   "outputs": [],
   "source": [
    "cv = CountVectorizer()\n",
    "x = cv.fit_transform(corpus).toarray()\n",
    "y = df.iloc[:,1].values"
   ]
  },
  {
   "cell_type": "code",
   "execution_count": 28,
   "metadata": {},
   "outputs": [],
   "source": [
    "x_train, x_test, y_train, y_test = train_test_split(x, y, test_size = 0.2)"
   ]
  },
  {
   "cell_type": "markdown",
   "metadata": {},
   "source": [
    "## Step 6\n",
    "Training and Analysing\n",
    "Task: Implement the Naive Bayes Classification Algorithm <br> \n",
    "Naive Bayes is a supervised learning classification algorithm. The Naive Bayes Algorithm is “Naive” because it assumes the occurrence of one feature does not affect the probability of occurrence of other features. In other words, features are not related to each other."
   ]
  },
  {
   "cell_type": "code",
   "execution_count": 29,
   "metadata": {},
   "outputs": [
    {
     "data": {
      "text/plain": [
       "MultinomialNB()"
      ]
     },
     "execution_count": 29,
     "metadata": {},
     "output_type": "execute_result"
    }
   ],
   "source": [
    "classifier = MultinomialNB()\n",
    "classifier.fit(x_train,y_train)"
   ]
  },
  {
   "cell_type": "code",
   "execution_count": 30,
   "metadata": {},
   "outputs": [
    {
     "name": "stdout",
     "output_type": "stream",
     "text": [
      "Accuracy: 98.15789473684211\n"
     ]
    }
   ],
   "source": [
    "y_pred = classifier.predict(x_test)\n",
    "print('Accuracy:', accuracy_score(y_test, y_pred)*100)"
   ]
  },
  {
   "cell_type": "code",
   "execution_count": 31,
   "metadata": {},
   "outputs": [
    {
     "name": "stdout",
     "output_type": "stream",
     "text": [
      "Input the text: text\n",
      "Not spam!\n"
     ]
    }
   ],
   "source": [
    "user_text = input('Input the text: ')\n",
    "prediction = classifier.predict(cv.transform([user_text]))[0]\n",
    "if prediction == 1:\n",
    "    print('Spam!')\n",
    "else:\n",
    "    print('Not spam!')"
   ]
  },
  {
   "cell_type": "code",
   "execution_count": null,
   "metadata": {},
   "outputs": [],
   "source": []
  }
 ],
 "metadata": {
  "kernelspec": {
   "display_name": "Python 3",
   "language": "python",
   "name": "python3"
  },
  "language_info": {
   "codemirror_mode": {
    "name": "ipython",
    "version": 3
   },
   "file_extension": ".py",
   "mimetype": "text/x-python",
   "name": "python",
   "nbconvert_exporter": "python",
   "pygments_lexer": "ipython3",
   "version": "3.8.5"
  }
 },
 "nbformat": 4,
 "nbformat_minor": 4
}
