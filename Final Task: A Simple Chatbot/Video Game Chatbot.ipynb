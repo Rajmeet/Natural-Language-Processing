{
 "cells": [
  {
   "cell_type": "code",
   "execution_count": 1,
   "metadata": {},
   "outputs": [],
   "source": [
    "import nltk\n",
    "import numpy as np\n",
    "import random\n",
    "import string"
   ]
  },
  {
   "cell_type": "markdown",
   "metadata": {},
   "source": [
    "#### Reading the Video Game Dataset and Tokenizing it using NLTK"
   ]
  },
  {
   "cell_type": "code",
   "execution_count": 2,
   "metadata": {},
   "outputs": [],
   "source": [
    "f = open('videogame.txt', 'r', errors = 'ignore')\n",
    "file = f.read()\n",
    "file.lower()\n",
    "\n",
    "sent_token = nltk.sent_tokenize(file)\n",
    "word_token = nltk.word_tokenize(file)"
   ]
  },
  {
   "cell_type": "code",
   "execution_count": 3,
   "metadata": {},
   "outputs": [
    {
     "name": "stdout",
     "output_type": "stream",
     "text": [
      "Sentence Tokenization: \n",
      " ['Since the 1980s, video games have become an increasingly important part of the entertainment industry, and whether they are also a form of art is a matter of dispute.'] \n",
      "\n",
      "Word Tokenization: \n",
      " ['video', 'game', 'is', 'an', 'electronic', 'game', 'that', 'involves', 'interaction']\n"
     ]
    }
   ],
   "source": [
    "print(\"Sentence Tokenization: \\n\", sent_token[1:2],\"\\n\")\n",
    "print(\"Word Tokenization: \\n\", word_token[1:10])"
   ]
  },
  {
   "cell_type": "markdown",
   "metadata": {},
   "source": [
    "#### Processing the data using NLTK pre-trained Punkt tokenizer\n",
    "Punkt Tokenizer includes:\n",
    "1. WordList and Stopwords list for removing noise\n",
    "2. Stemming and Lemmatization capabilities"
   ]
  },
  {
   "cell_type": "code",
   "execution_count": 4,
   "metadata": {},
   "outputs": [],
   "source": [
    "lemmer = nltk.stem.WordNetLemmatizer()\n",
    "\n",
    "def LemToken(tokens):\n",
    "    return [lemmer.lemmatize(token) for token in tokens]\n",
    "\n",
    "rem_punc = dict((ord(punct), None) for punct in string.punctuation)\n",
    "def LemNormalize(text):\n",
    "    return LemToken(nltk.word_tokenize(text.lower().translate(rem_punc)))"
   ]
  },
  {
   "cell_type": "markdown",
   "metadata": {},
   "source": [
    "#### Setting custom keywords for keyword matching"
   ]
  },
  {
   "cell_type": "code",
   "execution_count": 5,
   "metadata": {},
   "outputs": [],
   "source": [
    "GREETING_INPUTS = (\"hello\", \"hi\", \"greetings\", \"sup\", \"what's up\",\"hey\", \"how u doin\", \"heya\", \"yo\")\n",
    "GREETING_RESPONSES = [\"hi\", \"hey\", \"heylo\", \"hi there\", \"hello\", \"hi whats up dude\", \"Hi nice talking to you\"]\n",
    "def greeting(sentence):\n",
    " \n",
    "    for word in sentence.split():\n",
    "        if word.lower() in GREETING_INPUTS:\n",
    "            return random.choice(GREETING_RESPONSES)"
   ]
  },
  {
   "cell_type": "markdown",
   "metadata": {},
   "source": [
    "#### Generating Response\n",
    "Using the concept of document similarity our chatbot creates responses.\n",
    "Scikit Learn offers tools for this. These are:\n",
    "1. TFidf Vectorizer : (Term Frequency - inverse document frequency) works by generating the frequency of words and converting them in vector form.\n",
    "```\n",
    "[\"Video\", \"Games\", \"is\", \"are\", \"worst, \"great\"] -> Video games are great\n",
    "                                TFidf Vectorizer Result : (1,1,0,1,0,1)\n",
    "```\n",
    "2. Cosine Similarity: It is the measure of similarity between two non zero vectors. Calculated using the formula\n",
    "```\n",
    "Cosine Similarity(d1,d2) = Dot Product(d1,d2)/|d1|*|d2|\n",
    "```"
   ]
  },
  {
   "cell_type": "code",
   "execution_count": 6,
   "metadata": {},
   "outputs": [],
   "source": [
    "from sklearn.feature_extraction.text import TfidfVectorizer\n",
    "from sklearn.metrics.pairwise import cosine_similarity"
   ]
  },
  {
   "cell_type": "code",
   "execution_count": 7,
   "metadata": {},
   "outputs": [],
   "source": [
    "def response(user_response):\n",
    "    bot_response=''\n",
    "    sent_token.append(user_response)\n",
    "    TfidfVec = TfidfVectorizer(tokenizer=LemNormalize, stop_words='english')\n",
    "    tfidf = TfidfVec.fit_transform(sent_token)\n",
    "    vals = cosine_similarity(tfidf[-1], tfidf)\n",
    "    idx=vals.argsort()[0][-2]\n",
    "    flat = vals.flatten()\n",
    "    flat.sort()\n",
    "    req_tfidf = flat[-2]\n",
    "    if(req_tfidf==0):\n",
    "        bot_response+= \"I am sorry! I don't understand you\"\n",
    "        return bot_response\n",
    "    else:\n",
    "        bot_response += sent_token[idx]\n",
    "        return bot_response"
   ]
  },
  {
   "cell_type": "markdown",
   "metadata": {},
   "source": [
    "#### Chatbot Response Window"
   ]
  },
  {
   "cell_type": "code",
   "execution_count": 8,
   "metadata": {},
   "outputs": [
    {
     "name": "stdout",
     "output_type": "stream",
     "text": [
      "Bot: My name is GameBot. Made by Rajmeet I am trained to answer your queries about gaming. \n",
      "if you want to exit, just type 'bye'\n",
      ">hi\n",
      "BOT: hello\n",
      ">what are video games\n",
      "Since the 1980s, video games have become an increasingly important part of the entertainment industry, and whether they are also a form of art is a matter of dispute.\n",
      ">what are multiplayer games\n",
      "BOT: "
     ]
    },
    {
     "name": "stderr",
     "output_type": "stream",
     "text": [
      "D:\\Rajmeet\\Apps\\Anaconda3\\lib\\site-packages\\sklearn\\feature_extraction\\text.py:301: UserWarning: Your stop_words may be inconsistent with your preprocessing. Tokenizing the stop words generated tokens ['ha', 'le', 'u', 'wa'] not in stop_words.\n",
      "  'stop_words.' % sorted(inconsistent))\n"
     ]
    },
    {
     "name": "stdout",
     "output_type": "stream",
     "text": [
      "Multiplayer\n",
      "Main article: Multiplayer video game\n",
      "Multiplayer video games are those that can be played either competitively, sometimes in Electronic Sports, or cooperatively by using either multiple input devices, or by hotseating.\n",
      ">tell me about a console\n",
      "BOT: Home console\n",
      "A white Xbox 360 console and controller.\n",
      ">dajsuidjsai\n",
      "BOT: I am sorry! I don't understand you\n",
      ">bye\n",
      "BOT: Bye! take care\n"
     ]
    }
   ],
   "source": [
    "flag = True\n",
    "print(\"Bot: My name is GameBot. Made by Rajmeet I am trained to answer your queries about gaming. \\nif you want to exit, just type 'bye'\")\n",
    "\n",
    "while(flag==True):\n",
    "    user_response = input(\">\")\n",
    "    user_response=user_response.lower()\n",
    "    if(user_response!='bye'):\n",
    "        if(user_response=='thanks' or user_response=='thank you'):\n",
    "            flag=False\n",
    "            print(\"BOT: You are welcome\")\n",
    "        if user_response == \"what are video games\":\n",
    "            for i in sent_token[1:2]:\n",
    "                print(i, end = \"\\n\")\n",
    "        else:\n",
    "            if(greeting(user_response)!=None):\n",
    "                print(\"BOT: \"+greeting(user_response))\n",
    "            else:\n",
    "                print(\"BOT: \",end=\"\")\n",
    "                print(response(user_response))\n",
    "                sent_token.remove(user_response)\n",
    "    else:\n",
    "        flag=False\n",
    "        print(\"BOT: Bye! take care\")"
   ]
  },
  {
   "cell_type": "code",
   "execution_count": null,
   "metadata": {},
   "outputs": [],
   "source": []
  },
  {
   "cell_type": "code",
   "execution_count": null,
   "metadata": {},
   "outputs": [],
   "source": []
  }
 ],
 "metadata": {
  "kernelspec": {
   "display_name": "Python 3",
   "language": "python",
   "name": "python3"
  },
  "language_info": {
   "codemirror_mode": {
    "name": "ipython",
    "version": 3
   },
   "file_extension": ".py",
   "mimetype": "text/x-python",
   "name": "python",
   "nbconvert_exporter": "python",
   "pygments_lexer": "ipython3",
   "version": "3.7.3"
  }
 },
 "nbformat": 4,
 "nbformat_minor": 2
}
