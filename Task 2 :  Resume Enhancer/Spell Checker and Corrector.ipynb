{
 "cells": [
  {
   "cell_type": "markdown",
   "metadata": {},
   "source": [
    "#### Read the corpus file and get the count of the word"
   ]
  },
  {
   "cell_type": "code",
   "execution_count": 22,
   "metadata": {},
   "outputs": [],
   "source": [
    "import re\n",
    "from collections import Counter\n",
    "\n",
    "\n",
    "WORDS = open(\"corpus.txt\").read()\n",
    "WORDS = re.findall('[a-zA-Z0-9]+', WORDS.lower())\n",
    "WORDS = Counter(WORDS)"
   ]
  },
  {
   "cell_type": "markdown",
   "metadata": {},
   "source": [
    "### How it works\n",
    "- Deletion : Removes one letter\n",
    "- Transposition : Swaps two adjacent letters\n",
    "- Replacement: Change one letter to other\n",
    "- Insertion : Adds a letter"
   ]
  },
  {
   "cell_type": "code",
   "execution_count": 26,
   "metadata": {},
   "outputs": [],
   "source": [
    "def edits_at_one_distance(word):\n",
    "    alphabet = \"abcdefghijklmnopqrstuvwxyz\"\n",
    "\n",
    "    splits = [(word[:i], word[i:]) for i in range(len(word) + 1)]\n",
    "    \n",
    "    #DELETION\n",
    "    deletes = [L + R[1:] for L, R in splits if R]\n",
    "\n",
    "    #TRANSPOSITION\n",
    "    transposes = [L + R[1] + R[0] + R[2:] for L, R in splits if len(R) > 1]\n",
    "\n",
    "    #REPLACEMENT\n",
    "    replaces = [L + c + R[1:] for L, R in splits if R for c in alphabet]\n",
    "\n",
    "    #INSERTION\n",
    "    inserts = [L + c + R for L, R in splits for c in alphabet]\n",
    "\n",
    "    return set(deletes + transposes + replaces + inserts)\n",
    "\n",
    "def edits_at_two_distance(word):\n",
    "    return (e2 for e1 in edits_at_one_distance(word) for e2 in edits_at_one_distance(e1))"
   ]
  },
  {
   "cell_type": "markdown",
   "metadata": {},
   "source": [
    "### Cleaning up the word\n",
    "- Length Reduction: Extra letters in the word are removed (eg: amazingggg -> amazing)\n",
    "- Probabality Method : Since in a huge dataset the exact spelling is not correct 100% probabibilities are used. Hence The word with the maximum probablity is returned.\n"
   ]
  },
  {
   "cell_type": "code",
   "execution_count": 24,
   "metadata": {},
   "outputs": [],
   "source": [
    "#LENGTH REDUCTION\n",
    "def reduce_length(word):\n",
    "    return re.sub(r'(.)\\1{2,}', r'\\1\\1', word)\n",
    "\n",
    "#PROBABILITY METHOD\n",
    "def probability_of_word(word, N=sum(WORDS.values())):\n",
    "    return WORDS[word] / N\n",
    "\n",
    "#RETURNS CORRECTED WORD\n",
    "def correction(word):\n",
    "    word = reduce_length(word)\n",
    "    return max(candidates(word), key=probability_of_word)\n",
    "\n",
    "def candidates(word):\n",
    "    return (known([word]) or known(edits_at_one_distance(word)) or known(edits_at_two_distance(word)) or [word])\n",
    "\n",
    "def known(words):\n",
    "    return set(word for word in words if word in WORDS)"
   ]
  },
  {
   "cell_type": "code",
   "execution_count": 25,
   "metadata": {},
   "outputs": [
    {
     "name": "stdout",
     "output_type": "stream",
     "text": [
      "pattern\n",
      "amazing\n",
      "spelling\n",
      "corrected\n",
      "current\n"
     ]
    }
   ],
   "source": [
    "print(correction(\"pattern\"))\n",
    "print(correction(\"amaziiingggggggg\"))\n",
    "print(correction(\"speling\"))\n",
    "print(correction(\"currected\"))\n",
    "print(correction(\"currect\"))"
   ]
  },
  {
   "cell_type": "code",
   "execution_count": null,
   "metadata": {},
   "outputs": [],
   "source": []
  }
 ],
 "metadata": {
  "kernelspec": {
   "display_name": "Python 3",
   "language": "python",
   "name": "python3"
  },
  "language_info": {
   "codemirror_mode": {
    "name": "ipython",
    "version": 3
   },
   "file_extension": ".py",
   "mimetype": "text/x-python",
   "name": "python",
   "nbconvert_exporter": "python",
   "pygments_lexer": "ipython3",
   "version": "3.7.3"
  }
 },
 "nbformat": 4,
 "nbformat_minor": 2
}
